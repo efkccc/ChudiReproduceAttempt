{
 "cells": [
  {
   "cell_type": "code",
   "execution_count": 2,
   "metadata": {},
   "outputs": [],
   "source": [
    "%matplotlib inline\n",
    "from nilearn import plotting\n",
    "from nilearn import image"
   ]
  },
  {
   "cell_type": "code",
   "execution_count": 3,
   "metadata": {},
   "outputs": [],
   "source": [
    "images = ['dis', 'det', 'tilt', 'confDis', 'confDet', 'confTilt', 'confSqDis', 'confSqDet', 'confSqTilt']\n",
    "image_dict = {i:image.load_img(\"brain_maps\\\\\"+ i +\".nii\") for i in images}"
   ]
  },
  {
   "cell_type": "code",
   "execution_count": 4,
   "metadata": {},
   "outputs": [],
   "source": [
    "for key in image_dict:\n",
    "    plotting.plot_glass_brain(image_dict[key], threshold=3.6,\n",
    "                         colorbar=True, plot_abs=False,\n",
    "                         vmin=-10, vmax=10,\n",
    "                         output_file=key+'.png')"
   ]
  }
 ],
 "metadata": {
  "kernelspec": {
   "display_name": "Python 3 (ipykernel)",
   "language": "python",
   "name": "python3"
  },
  "language_info": {
   "codemirror_mode": {
    "name": "ipython",
    "version": 3
   },
   "file_extension": ".py",
   "mimetype": "text/x-python",
   "name": "python",
   "nbconvert_exporter": "python",
   "pygments_lexer": "ipython3",
   "version": "3.9.7"
  }
 },
 "nbformat": 4,
 "nbformat_minor": 2
}
